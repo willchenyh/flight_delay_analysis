{
 "cells": [
  {
   "cell_type": "code",
   "execution_count": 2,
   "metadata": {
    "collapsed": true
   },
   "outputs": [],
   "source": [
    "import pandas as pd\n",
    "import numpy as np"
   ]
  },
  {
   "cell_type": "code",
   "execution_count": 3,
   "metadata": {
    "collapsed": false
   },
   "outputs": [
    {
     "name": "stdout",
     "output_type": "stream",
     "text": [
      "(5538145, 22)\n"
     ]
    }
   ],
   "source": [
    "\"\"\"concatenate data\"\"\"\n",
    "dflist = []\n",
    "for i in range(1,13):\n",
    "    fn = '../2016_data_new/2016_{}_new.csv'.format(i)\n",
    "    df = pd.read_csv(fn, index_col=0)\n",
    "    dflist.append(df)\n",
    "df = pd.concat(dflist, ignore_index=True)\n",
    "print df.shape"
   ]
  },
  {
   "cell_type": "code",
   "execution_count": 4,
   "metadata": {
    "collapsed": false,
    "scrolled": false
   },
   "outputs": [
    {
     "name": "stdout",
     "output_type": "stream",
     "text": [
      "   YEAR  MONTH  DAY_OF_MONTH  DAY_OF_WEEK     FL_DATE UNIQUE_CARRIER  \\\n",
      "0  2016      1             3            7  2016-01-03             F9   \n",
      "1  2016      1             3            7  2016-01-03             F9   \n",
      "\n",
      "   AIRLINE_ID ORIGIN                ORIGIN_CITY_NAME ORIGIN_STATE_NM  \\\n",
      "0       20436    DEN                      Denver, CO        Colorado   \n",
      "1       20436    PBI  West Palm Beach/Palm Beach, FL         Florida   \n",
      "\n",
      "          ...          DEP_DELAY  ARR_TIME  ARR_DELAY  ACTUAL_ELAPSED_TIME  \\\n",
      "0         ...               -1.0    1815.0       -5.0                111.0   \n",
      "1         ...               44.0     948.0       19.0                244.0   \n",
      "\n",
      "   DISTANCE  CARRIER_DELAY  WEATHER_DELAY  NAS_DELAY  SECURITY_DELAY  \\\n",
      "0     692.0            NaN            NaN        NaN             NaN   \n",
      "1    1679.0           19.0            0.0        0.0             0.0   \n",
      "\n",
      "   LATE_AIRCRAFT_DELAY  \n",
      "0                  NaN  \n",
      "1                  0.0  \n",
      "\n",
      "[2 rows x 22 columns]\n"
     ]
    }
   ],
   "source": [
    "print df.head(2)"
   ]
  },
  {
   "cell_type": "code",
   "execution_count": null,
   "metadata": {
    "collapsed": true
   },
   "outputs": [],
   "source": [
    "#     print df\n",
    "#     df.drop('Unnamed: 22', axis=1, inplace=True)\n",
    "#     print df.columns\n",
    "#     print df.describe()\n",
    "#     df_wo_na = df.dropna(subset=['DEP_TIME','DEP_DELAY','ARR_TIME','ARR_DELAY'])\n",
    "#     print df_wo_na.describe()\n",
    "#     df_wo_na.to_csv('2016_data_new/2016_{}_new.csv'.format(i, index=False))"
   ]
  }
 ],
 "metadata": {
  "kernelspec": {
   "display_name": "Python 2",
   "language": "python",
   "name": "python2"
  },
  "language_info": {
   "codemirror_mode": {
    "name": "ipython",
    "version": 2
   },
   "file_extension": ".py",
   "mimetype": "text/x-python",
   "name": "python",
   "nbconvert_exporter": "python",
   "pygments_lexer": "ipython2",
   "version": "2.7.13"
  }
 },
 "nbformat": 4,
 "nbformat_minor": 2
}
