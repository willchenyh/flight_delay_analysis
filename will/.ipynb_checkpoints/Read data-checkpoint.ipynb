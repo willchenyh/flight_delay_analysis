{
 "cells": [
  {
   "cell_type": "code",
   "execution_count": 3,
   "metadata": {
    "collapsed": true
   },
   "outputs": [],
   "source": [
    "import pandas as pd\n",
    "import numpy as np"
   ]
  },
  {
   "cell_type": "code",
   "execution_count": 10,
   "metadata": {
    "collapsed": false
   },
   "outputs": [
    {
     "name": "stdout",
     "output_type": "stream",
     "text": [
      "Index([u'YEAR', u'MONTH', u'DAY_OF_MONTH', u'DAY_OF_WEEK', u'FL_DATE',\n",
      "       u'UNIQUE_CARRIER', u'AIRLINE_ID', u'ORIGIN', u'ORIGIN_CITY_NAME',\n",
      "       u'ORIGIN_STATE_NM', u'DEST', u'DEP_TIME', u'DEP_DELAY', u'ARR_TIME',\n",
      "       u'ARR_DELAY', u'ACTUAL_ELAPSED_TIME', u'DISTANCE', u'CARRIER_DELAY',\n",
      "       u'WEATHER_DELAY', u'NAS_DELAY', u'SECURITY_DELAY',\n",
      "       u'LATE_AIRCRAFT_DELAY'],\n",
      "      dtype='object')\n",
      "(433298, 22)\n"
     ]
    }
   ],
   "source": [
    "\"\"\"print columns of data\"\"\"\n",
    "for i in range(1,13):\n",
    "    fn = '../2016_data_new/2016_{}_new.csv'.format(i)\n",
    "    df = pd.read_csv(fn, index_col=0)\n",
    "    print df.columns\n",
    "    print df.shape\n",
    "#     print df\n",
    "#     df.drop('Unnamed: 22', axis=1, inplace=True)\n",
    "#     print df.columns\n",
    "#     print df.describe()\n",
    "#     df_wo_na = df.dropna(subset=['DEP_TIME','DEP_DELAY','ARR_TIME','ARR_DELAY'])\n",
    "#     print df_wo_na.describe()\n",
    "#     df_wo_na.to_csv('2016_data_new/2016_{}_new.csv'.format(i, index=False))\n",
    "    break"
   ]
  }
 ],
 "metadata": {
  "kernelspec": {
   "display_name": "Python 2",
   "language": "python",
   "name": "python2"
  },
  "language_info": {
   "codemirror_mode": {
    "name": "ipython",
    "version": 2
   },
   "file_extension": ".py",
   "mimetype": "text/x-python",
   "name": "python",
   "nbconvert_exporter": "python",
   "pygments_lexer": "ipython2",
   "version": "2.7.13"
  }
 },
 "nbformat": 4,
 "nbformat_minor": 2
}
