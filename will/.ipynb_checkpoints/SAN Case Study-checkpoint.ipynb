{
 "cells": [
  {
   "cell_type": "code",
   "execution_count": 2,
   "metadata": {
    "collapsed": true
   },
   "outputs": [],
   "source": [
    "import pandas as pd\n",
    "import numpy as np\n",
    "\n",
    "\"\"\"concatenate data\"\"\"\n",
    "dflist = []\n",
    "for i in range(1,13):\n",
    "    fn = '../2016_data_new/2016_{}_new.csv'.format(i)\n",
    "    df = pd.read_csv(fn, index_col=0)\n",
    "    dflist.append(df)\n",
    "df = pd.concat(dflist, ignore_index=True)"
   ]
  },
  {
   "cell_type": "code",
   "execution_count": 4,
   "metadata": {
    "collapsed": false
   },
   "outputs": [
    {
     "name": "stdout",
     "output_type": "stream",
     "text": [
      "     YEAR  MONTH  DAY_OF_MONTH  DAY_OF_WEEK     FL_DATE UNIQUE_CARRIER  \\\n",
      "225  2016      1             4            1  2016-01-04             F9   \n",
      "227  2016      1             4            1  2016-01-04             F9   \n",
      "\n",
      "     AIRLINE_ID ORIGIN ORIGIN_CITY_NAME ORIGIN_STATE_NM         ...           \\\n",
      "225       20436    SAN    San Diego, CA      California         ...            \n",
      "227       20436    SAN    San Diego, CA      California         ...            \n",
      "\n",
      "    DEP_DELAY  ARR_TIME  ARR_DELAY  ACTUAL_ELAPSED_TIME  DISTANCE  \\\n",
      "225      -6.0    1148.0      -17.0                133.0     853.0   \n",
      "227     -15.0    2235.0      -25.0                130.0     853.0   \n",
      "\n",
      "     CARRIER_DELAY  WEATHER_DELAY  NAS_DELAY  SECURITY_DELAY  \\\n",
      "225            NaN            NaN        NaN             NaN   \n",
      "227            NaN            NaN        NaN             NaN   \n",
      "\n",
      "     LATE_AIRCRAFT_DELAY  \n",
      "225                  NaN  \n",
      "227                  NaN  \n",
      "\n",
      "[2 rows x 22 columns]\n",
      "Index([u'YEAR', u'MONTH', u'DAY_OF_MONTH', u'DAY_OF_WEEK', u'FL_DATE',\n",
      "       u'UNIQUE_CARRIER', u'AIRLINE_ID', u'ORIGIN', u'ORIGIN_CITY_NAME',\n",
      "       u'ORIGIN_STATE_NM', u'DEST', u'DEP_TIME', u'DEP_DELAY', u'ARR_TIME',\n",
      "       u'ARR_DELAY', u'ACTUAL_ELAPSED_TIME', u'DISTANCE', u'CARRIER_DELAY',\n",
      "       u'WEATHER_DELAY', u'NAS_DELAY', u'SECURITY_DELAY',\n",
      "       u'LATE_AIRCRAFT_DELAY'],\n",
      "      dtype='object')\n"
     ]
    }
   ],
   "source": [
    "\"\"\"select all flights with ORIGIN at SAN\"\"\"\n",
    "san = df.loc[df['ORIGIN']=='SAN']\n",
    "print san.head(2)\n",
    "print san.columns"
   ]
  },
  {
   "cell_type": "code",
   "execution_count": 9,
   "metadata": {
    "collapsed": false
   },
   "outputs": [
    {
     "name": "stdout",
     "output_type": "stream",
     "text": [
      "DEST\n",
      "SFO    7760\n",
      "PHX    5433\n",
      "DEN    4864\n",
      "LAS    4440\n",
      "SEA    3632\n",
      "DFW    3491\n",
      "ORD    3143\n",
      "LAX    3017\n",
      "SLC    2475\n",
      "ATL    2263\n",
      "JFK    2065\n",
      "IAH    1729\n",
      "MDW    1299\n",
      "MSP    1192\n",
      "EWR    1072\n",
      "BOS    1032\n",
      "PHL     908\n",
      "BWI     794\n",
      "CLT     787\n",
      "DTW     786\n",
      "MCO     680\n",
      "FLL     195\n",
      "dtype: int64\n"
     ]
    }
   ],
   "source": [
    "\"\"\"see destination airports\"\"\"\n",
    "grouped = san.groupby(['DEST'])\n",
    "grp_size = grouped.size().sort_values(ascending=False)\n",
    "# airports = list(grp_size.index[:25])\n",
    "airports = ['ATL', 'ORD', 'DEN', 'LAX', 'DFW', 'SFO', 'PHX', 'LAS', 'IAH', 'SEA', \n",
    "            'MSP', 'MCO', 'DTW', 'BOS', 'EWR', 'CLT', 'SLC', 'JFK', 'BWI', 'LGA', \n",
    "            'MDW', 'FLL', 'SAN', 'DCA', 'PHL']\n",
    "selected = grp_size.loc[grp_size.index.isin(airports)]\n",
    "# print grp_size\n",
    "print selected"
   ]
  },
  {
   "cell_type": "code",
   "execution_count": 63,
   "metadata": {
    "collapsed": false,
    "scrolled": false
   },
   "outputs": [
    {
     "name": "stdout",
     "output_type": "stream",
     "text": [
      "           0         1         2         3         4         5         6   \\\n",
      "ATL  0.325843  0.261905  0.196429  0.170455  0.109290  0.246073  0.235808   \n",
      "BOS  0.426829  0.434211  0.292135  0.337349  0.272727  0.181818  0.351648   \n",
      "BWI  0.250000  0.245614  0.294872  0.316667  0.150000  0.329412  0.336957   \n",
      "CLT  0.456140  0.428571  0.557377  0.283333  0.338710  0.364706  0.454545   \n",
      "DEN  0.294118  0.310160  0.371571  0.304878  0.337209  0.403382  0.373853   \n",
      "DFW  0.241722  0.217082  0.354839  0.250000  0.258170  0.548276  0.396721   \n",
      "DTW  0.360000  0.227273  0.163934  0.101695  0.105263  0.098765  0.156522   \n",
      "EWR  0.229730  0.345679  0.123596  0.200000  0.155556  0.275862  0.272727   \n",
      "FLL       NaN       NaN       NaN       NaN       NaN  0.333333  0.400000   \n",
      "IAH  0.220000  0.179856  0.219178  0.153285  0.192857  0.340580  0.218543   \n",
      "JFK  0.463768  0.463235  0.240964  0.307229  0.202247  0.313725  0.372549   \n",
      "LAS  0.352459  0.283286  0.460490  0.504202  0.497382  0.550000  0.515707   \n",
      "LAX  0.385417  0.349206  0.441176  0.355856  0.279661  0.464646  0.360000   \n",
      "MCO  0.259259  0.140000  0.403846  0.333333  0.226415  0.520000  0.509434   \n",
      "MDW  0.402299  0.240506  0.357143  0.341880  0.235294  0.378151  0.327731   \n",
      "MSP  0.142857  0.197368  0.191667  0.168142  0.207547  0.272727  0.159420   \n",
      "ORD  0.278027  0.286408  0.211382  0.222222  0.238806  0.305369  0.319079   \n",
      "PHL  0.295082  0.368421  0.348837  0.329412  0.263736  0.449438  0.347826   \n",
      "PHX  0.362637  0.243560  0.356846  0.464531  0.467120  0.535088  0.543478   \n",
      "SEA  0.298805  0.312000  0.393836  0.380952  0.265574  0.429043  0.464286   \n",
      "SFO  0.451400  0.230118  0.537634  0.444272  0.443452  0.393665  0.406593   \n",
      "SLC  0.236967  0.236842  0.230415  0.176190  0.240566  0.233831  0.200000   \n",
      "\n",
      "           7         8         9         10        11  \n",
      "ATL  0.222749  0.128342  0.060302  0.279330  0.288660  \n",
      "BOS  0.293478  0.341463  0.277778  0.488095  0.195402  \n",
      "BWI  0.238806  0.175439  0.129032  0.396552  0.225806  \n",
      "CLT  0.426829  0.250000  0.214286  0.527273  0.383562  \n",
      "DEN  0.363839  0.294964  0.235437  0.330579  0.317935  \n",
      "DFW  0.428571  0.299652  0.236667  0.446565  0.341176  \n",
      "DTW  0.231579  0.181818  0.017544  0.370370  0.155172  \n",
      "EWR  0.271739  0.258824  0.166667  0.428571  0.341667  \n",
      "FLL  0.322581  0.366667  0.466667  0.392857  0.290323  \n",
      "IAH  0.253333  0.277372  0.141892  0.342466  0.265306  \n",
      "JFK  0.331658  0.250000  0.180233  0.373418  0.222222  \n",
      "LAS  0.455696  0.427419  0.385604  0.382436  0.537791  \n",
      "LAX  0.372937  0.291667  0.339350  0.363281  0.484127  \n",
      "MCO  0.519231  0.461538  0.301887  0.278481  0.530864  \n",
      "MDW  0.292683  0.220339  0.163934  0.336842  0.303371  \n",
      "MSP  0.198347  0.265060  0.056180  0.227848  0.187500  \n",
      "ORD  0.388514  0.270992  0.222222  0.330739  0.250000  \n",
      "PHL  0.456522  0.419355  0.193548  0.454545  0.197368  \n",
      "PHX  0.361702  0.349099  0.574153  0.443182  0.489978  \n",
      "SEA  0.423313  0.383436  0.277955  0.300912  0.401274  \n",
      "SFO  0.530556  0.404908  0.431818  0.347551  0.442675  \n",
      "SLC  0.284314  0.271357  0.160377  0.179104  0.338028  \n"
     ]
    }
   ],
   "source": [
    "selected = san.loc[san['DEST'].isin(airports)]\n",
    "\n",
    "# print selected.head()\n",
    "# print selected['DEST'].unique()\n",
    "# print df.loc[(df['ORIGIN']=='SAN') & (df['DEST']=='DCA')]\n",
    "\n",
    "\"\"\"get count of delays per airport\"\"\"\n",
    "# for ap in airports:\n",
    "pc_list = []\n",
    "for month in range(1,13):\n",
    "    delays = selected.loc[(selected['ARR_DELAY']>0) & (selected['MONTH']==month)]\n",
    "    month_total = selected.loc[selected['MONTH']==month]\n",
    "    num_delay = delays.groupby(['DEST']).size()\n",
    "    num_total = month_total.groupby(['DEST']).size()\n",
    "    delay_pc = num_delay.divide(num_total)\n",
    "    pc_list.append(delay_pc)\n",
    "#     print 'month:', month\n",
    "#     print delay_pc\n",
    "\n",
    "pc_df = pd.concat(pc_list, axis=1)\n",
    "print pc_df\n",
    "\n"
   ]
  }
 ],
 "metadata": {
  "kernelspec": {
   "display_name": "Python 2",
   "language": "python",
   "name": "python2"
  },
  "language_info": {
   "codemirror_mode": {
    "name": "ipython",
    "version": 2
   },
   "file_extension": ".py",
   "mimetype": "text/x-python",
   "name": "python",
   "nbconvert_exporter": "python",
   "pygments_lexer": "ipython2",
   "version": "2.7.13"
  }
 },
 "nbformat": 4,
 "nbformat_minor": 2
}
