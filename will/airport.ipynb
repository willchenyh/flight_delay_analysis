{
 "cells": [
  {
   "cell_type": "code",
   "execution_count": 5,
   "metadata": {
    "collapsed": true
   },
   "outputs": [],
   "source": [
    "import pandas as pd\n",
    "import numpy as np\n",
    "\n",
    "\"\"\"concatenate data\"\"\"\n",
    "dflist = []\n",
    "for i in range(1,13):\n",
    "    fn = '../2016_data_new/2016_{}_new.csv'.format(i)\n",
    "    df = pd.read_csv(fn, index_col=0)\n",
    "    dflist.append(df)\n",
    "df = pd.concat(dflist, ignore_index=True)"
   ]
  },
  {
   "cell_type": "code",
   "execution_count": 17,
   "metadata": {
    "collapsed": false
   },
   "outputs": [
    {
     "name": "stdout",
     "output_type": "stream",
     "text": [
      "['ATL', 'ORD', 'DEN', 'LAX', 'DFW', 'SFO', 'PHX', 'LAS', 'IAH', 'SEA', 'MSP', 'MCO', 'DTW', 'BOS', 'EWR', 'CLT', 'SLC', 'JFK', 'BWI', 'LGA', 'MDW', 'FLL', 'SAN', 'DCA', 'PHL']\n"
     ]
    }
   ],
   "source": [
    "\"\"\"select 25 most flown airports\"\"\"\n",
    "grouped = df.groupby(['ORIGIN'])\n",
    "grp_size = grouped.size().sort_values(ascending=False)\n",
    "airports = list(grp_size.index[:25])\n",
    "print airports\n",
    "# print grp_size"
   ]
  },
  {
   "cell_type": "code",
   "execution_count": 46,
   "metadata": {
    "collapsed": false
   },
   "outputs": [],
   "source": [
    "selected = df.loc[df['ORIGIN'].isin(airports)]\n",
    "# print selected['ORIGIN'].unique()\n",
    "total_grp = selected.groupby(['ORIGIN']).size()"
   ]
  },
  {
   "cell_type": "code",
   "execution_count": 47,
   "metadata": {
    "collapsed": false
   },
   "outputs": [],
   "source": [
    "\"\"\"get count of delays per airport\"\"\"\n",
    "delays = selected.loc[selected['ARR_DELAY']>=15]\n",
    "delay_grp = delays.groupby(['ORIGIN']).size()"
   ]
  },
  {
   "cell_type": "code",
   "execution_count": 48,
   "metadata": {
    "collapsed": false
   },
   "outputs": [
    {
     "name": "stdout",
     "output_type": "stream",
     "text": [
      "ORIGIN\n",
      "ATL    0.146697\n",
      "BOS    0.181082\n",
      "BWI    0.166780\n",
      "CLT    0.179324\n",
      "DCA    0.176542\n",
      "DEN    0.179900\n",
      "DFW    0.211705\n",
      "DTW    0.158155\n",
      "EWR    0.213525\n",
      "FLL    0.209519\n",
      "IAH    0.159620\n",
      "JFK    0.219625\n",
      "LAS    0.196588\n",
      "LAX    0.224737\n",
      "LGA    0.216424\n",
      "MCO    0.180737\n",
      "MDW    0.173591\n",
      "MSP    0.163389\n",
      "ORD    0.220563\n",
      "PHL    0.191324\n",
      "PHX    0.173853\n",
      "SAN    0.163492\n",
      "SEA    0.153358\n",
      "SFO    0.217461\n",
      "SLC    0.133369\n",
      "dtype: float64\n"
     ]
    }
   ],
   "source": [
    "\"\"\"compute percentage of delays per airport\"\"\"\n",
    "ap_pc = delay_grp.divide(total_grp)\n",
    "print ap_pc"
   ]
  }
 ],
 "metadata": {
  "kernelspec": {
   "display_name": "Python 2",
   "language": "python",
   "name": "python2"
  },
  "language_info": {
   "codemirror_mode": {
    "name": "ipython",
    "version": 2
   },
   "file_extension": ".py",
   "mimetype": "text/x-python",
   "name": "python",
   "nbconvert_exporter": "python",
   "pygments_lexer": "ipython2",
   "version": "2.7.13"
  }
 },
 "nbformat": 4,
 "nbformat_minor": 2
}
