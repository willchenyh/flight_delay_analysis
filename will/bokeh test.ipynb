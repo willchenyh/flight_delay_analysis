{
 "cells": [
  {
   "cell_type": "code",
   "execution_count": 4,
   "metadata": {
    "collapsed": false
   },
   "outputs": [
    {
     "name": "stderr",
     "output_type": "stream",
     "text": [
      "WARNING:C:\\Users\\willc\\Anaconda2\\lib\\site-packages\\bokeh\\core\\validation\\check.py:W-1004 (BOTH_CHILD_AND_ROOT): Models should not be a document root if they are in a layout box: Figure(id='62d5176e-4a58-4f98-bbbb-3b2e2f7aa0e2', ...)\n"
     ]
    }
   ],
   "source": [
    "from bokeh.io import curdoc\n",
    "from bokeh.layouts import column\n",
    "from bokeh.models import ColumnDataSource, Select\n",
    "from bokeh.plotting import figure\n",
    "from numpy.random import random, normal, lognormal\n",
    "N = 1000\n",
    "source = ColumnDataSource(data={'x': random(N), 'y': random(N)})\n",
    "# Create plots and widgets\n",
    "plot = figure()\n",
    "plot.circle(x='x', y='y', source=source)\n",
    "menu = Select(options=['uniform', 'normal', 'lognormal'], value='uniform', title='Distribution')\n",
    "# Add callback to widgets\n",
    "def callback(attr, old, new):\n",
    "    if menu.value == 'uniform': f = random\n",
    "    elif menu.value == 'normal': f = normal\n",
    "    else: f = lognormal\n",
    "    source.data={'x': f(size=N), 'y': f(size=N)}\n",
    "menu.on_change('value', callback)\n",
    "# Arrange plots and widgets in layouts\n",
    "layout = column(menu, plot)\n",
    "curdoc().add_root(layout)\n",
    "show(plot)"
   ]
  },
  {
   "cell_type": "code",
   "execution_count": 7,
   "metadata": {
    "collapsed": false
   },
   "outputs": [
    {
     "name": "stderr",
     "output_type": "stream",
     "text": [
      "INFO:bokeh.core.state:Session output file 'bokeh_line_dropdown.html' already exists, will be overwritten.\n"
     ]
    }
   ],
   "source": [
    "from bokeh.io import curdoc\n",
    "curdoc().clear()\n",
    "\n",
    "from bokeh.plotting import figure, output_file, show\n",
    "from bokeh.layouts import column\n",
    "from bokeh.models.widgets import Dropdown\n",
    "from bokeh.models.callbacks import  CustomJS\n",
    "\n",
    "output_file(\"bokeh_line_dropdown.html\")\n",
    "\n",
    "# make some data\n",
    "x = range(10)\n",
    "y = [i**2 for i in x]\n",
    "\n",
    "# create the figure as usual\n",
    "p = figure(width = 300, height=200, # figure width and height\n",
    "           tools=\"save,pan\", # only these tools\n",
    "           x_axis_label='x', # label x and y axes\n",
    "           y_axis_label='y')\n",
    "\n",
    "# add the line,\n",
    "line = p.line(x,y,             # x,y data\n",
    "              line_color='red',# in red\n",
    "              line_width=3)    # line thickness\n",
    "\n",
    "# elements for pulldown\n",
    "menu = [(\"Red\", \"red\"),     \n",
    "        (\"Green\", \"green\"), \n",
    "        (\"Blue\", \"blue\")]\n",
    "\n",
    "# pass the line object and change line_color based on pulldown choice\n",
    "cb = CustomJS(args=dict(line=line),\n",
    "              code='''\n",
    "                   var line = line.glyph;\n",
    "                   var f = cb_obj.value;\n",
    "                   line.line_color = f;\n",
    "                   ''')\n",
    "\n",
    "# assign callback to Dropdown\n",
    "dropdown = Dropdown(label=\"Select Line Color\", menu=menu,callback=cb)\n",
    "# use column to put Dropdown above figure\n",
    "show(column(dropdown,p))"
   ]
  }
 ],
 "metadata": {
  "kernelspec": {
   "display_name": "Python 2",
   "language": "python",
   "name": "python2"
  },
  "language_info": {
   "codemirror_mode": {
    "name": "ipython",
    "version": 2
   },
   "file_extension": ".py",
   "mimetype": "text/x-python",
   "name": "python",
   "nbconvert_exporter": "python",
   "pygments_lexer": "ipython2",
   "version": "2.7.13"
  }
 },
 "nbformat": 4,
 "nbformat_minor": 2
}
