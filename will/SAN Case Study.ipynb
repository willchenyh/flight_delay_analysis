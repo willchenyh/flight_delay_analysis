{
 "cells": [
  {
   "cell_type": "code",
   "execution_count": 2,
   "metadata": {
    "collapsed": true
   },
   "outputs": [],
   "source": [
    "import pandas as pd\n",
    "import numpy as np\n",
    "\n",
    "\"\"\"concatenate data\"\"\"\n",
    "dflist = []\n",
    "for i in range(1,13):\n",
    "    fn = '../2016_data_new/2016_{}_new.csv'.format(i)\n",
    "    df = pd.read_csv(fn, index_col=0)\n",
    "    dflist.append(df)\n",
    "df = pd.concat(dflist, ignore_index=True)"
   ]
  },
  {
   "cell_type": "code",
   "execution_count": 3,
   "metadata": {
    "collapsed": false
   },
   "outputs": [
    {
     "name": "stdout",
     "output_type": "stream",
     "text": [
      "     YEAR  MONTH  DAY_OF_MONTH  DAY_OF_WEEK     FL_DATE UNIQUE_CARRIER  \\\n",
      "225  2016      1             4            1  2016-01-04             F9   \n",
      "227  2016      1             4            1  2016-01-04             F9   \n",
      "\n",
      "     AIRLINE_ID ORIGIN ORIGIN_CITY_NAME ORIGIN_STATE_NM         ...           \\\n",
      "225       20436    SAN    San Diego, CA      California         ...            \n",
      "227       20436    SAN    San Diego, CA      California         ...            \n",
      "\n",
      "    DEP_DELAY  ARR_TIME  ARR_DELAY  ACTUAL_ELAPSED_TIME  DISTANCE  \\\n",
      "225      -6.0    1148.0      -17.0                133.0     853.0   \n",
      "227     -15.0    2235.0      -25.0                130.0     853.0   \n",
      "\n",
      "     CARRIER_DELAY  WEATHER_DELAY  NAS_DELAY  SECURITY_DELAY  \\\n",
      "225            NaN            NaN        NaN             NaN   \n",
      "227            NaN            NaN        NaN             NaN   \n",
      "\n",
      "     LATE_AIRCRAFT_DELAY  \n",
      "225                  NaN  \n",
      "227                  NaN  \n",
      "\n",
      "[2 rows x 22 columns]\n",
      "Index([u'YEAR', u'MONTH', u'DAY_OF_MONTH', u'DAY_OF_WEEK', u'FL_DATE',\n",
      "       u'UNIQUE_CARRIER', u'AIRLINE_ID', u'ORIGIN', u'ORIGIN_CITY_NAME',\n",
      "       u'ORIGIN_STATE_NM', u'DEST', u'DEP_TIME', u'DEP_DELAY', u'ARR_TIME',\n",
      "       u'ARR_DELAY', u'ACTUAL_ELAPSED_TIME', u'DISTANCE', u'CARRIER_DELAY',\n",
      "       u'WEATHER_DELAY', u'NAS_DELAY', u'SECURITY_DELAY',\n",
      "       u'LATE_AIRCRAFT_DELAY'],\n",
      "      dtype='object')\n"
     ]
    }
   ],
   "source": [
    "\"\"\"select all flights with ORIGIN at SAN\"\"\"\n",
    "san = df.loc[df['ORIGIN']=='SAN']\n",
    "print san.head(2)\n",
    "print san.columns"
   ]
  },
  {
   "cell_type": "code",
   "execution_count": 4,
   "metadata": {
    "collapsed": false
   },
   "outputs": [
    {
     "name": "stdout",
     "output_type": "stream",
     "text": [
      "DEST\n",
      "SFO    7760\n",
      "PHX    5433\n",
      "DEN    4864\n",
      "LAS    4440\n",
      "SEA    3632\n",
      "DFW    3491\n",
      "ORD    3143\n",
      "LAX    3017\n",
      "SLC    2475\n",
      "ATL    2263\n",
      "JFK    2065\n",
      "IAH    1729\n",
      "MDW    1299\n",
      "MSP    1192\n",
      "EWR    1072\n",
      "BOS    1032\n",
      "PHL     908\n",
      "BWI     794\n",
      "CLT     787\n",
      "DTW     786\n",
      "MCO     680\n",
      "FLL     195\n",
      "dtype: int64\n"
     ]
    }
   ],
   "source": [
    "\"\"\"see destination airports\"\"\"\n",
    "grouped = san.groupby(['DEST'])\n",
    "grp_size = grouped.size().sort_values(ascending=False)\n",
    "# airports = list(grp_size.index[:25])\n",
    "\n",
    "airports = ['ATL', 'ORD', 'DEN', 'LAX', 'DFW', 'SFO', 'PHX', 'LAS', 'IAH', 'SEA', \n",
    "            'MSP', 'MCO', 'DTW', 'BOS', 'EWR', 'CLT', 'SLC', 'JFK', 'BWI', 'LGA', \n",
    "            'MDW', 'FLL', 'SAN', 'DCA', 'PHL']\n",
    "selected = grp_size.loc[grp_size.index.isin(airports)]\n",
    "# print grp_size\n",
    "print selected"
   ]
  },
  {
   "cell_type": "code",
   "execution_count": 5,
   "metadata": {
    "collapsed": false
   },
   "outputs": [],
   "source": [
    "selected = san.loc[san['DEST'].isin(airports)]\n",
    "airlines = selected['UNIQUE_CARRIER'].unique()"
   ]
  },
  {
   "cell_type": "code",
   "execution_count": 6,
   "metadata": {
    "collapsed": false,
    "scrolled": false
   },
   "outputs": [],
   "source": [
    "selected = san.loc[san['DEST'].isin(airports)]\n",
    "\n",
    "# print selected.head()\n",
    "# print selected['DEST'].unique()\n",
    "# print df.loc[(df['ORIGIN']=='SAN') & (df['DEST']=='DCA')]\n",
    "\n",
    "\"\"\"get count of delays per airport\"\"\"\n",
    "delay_al = {}\n",
    "for al in airlines:\n",
    "#     pc_list = []\n",
    "    delay_m = {}\n",
    "    for month in range(1,13):\n",
    "        month_total = selected.loc[(selected['MONTH']==month) & (selected['UNIQUE_CARRIER']==al)]\n",
    "        delays = month_total.loc[month_total['ARR_DELAY']>0]\n",
    "        \n",
    "        num_delay = delays.groupby(['DEST']).size()\n",
    "        num_total = month_total.groupby(['DEST']).size()\n",
    "        delay_pc = num_delay.divide(num_total)\n",
    "        \n",
    "        ap_used = list(delay_pc.index)\n",
    "        \n",
    "        delay_ap = np.zeros((len(airports),))\n",
    "        for i,ap in enumerate(airports):\n",
    "            if ap in ap_used:\n",
    "                delay_ap[i] = delay_pc[ap]\n",
    "                \n",
    "        delay_m[month] = delay_ap\n",
    "        \n",
    "        \n",
    "#         delay_m[month] = delay_\n",
    "        \n",
    "        \n",
    "#         pc_list.append(delay_pc)\n",
    "    #     print 'month:', month\n",
    "    #     print delay_pc\n",
    "\n",
    "#     pc_df = pd.concat(pc_list, axis=1)\n",
    "    delay_al[al] = delay_m\n",
    "\n",
    "# for iten,val in delay_al.iteritems():\n",
    "#     print iten\n",
    "#     print val\n",
    "#     print\n",
    "\n"
   ]
  },
  {
   "cell_type": "code",
   "execution_count": 9,
   "metadata": {
    "collapsed": false
   },
   "outputs": [],
   "source": [
    "\"\"\"average delay time\"\"\"\n",
    "selected = san.loc[san['DEST'].isin(airports)]\n",
    "\n",
    "delay_al = {}\n",
    "for al in airlines:\n",
    "    delay_m = {}\n",
    "    for month in range(1,13):\n",
    "        month_total = selected.loc[(selected['MONTH']==month) & (selected['UNIQUE_CARRIER']==al)]\n",
    "        delays = month_total.loc[month_total['ARR_DELAY']>0]\n",
    "        \n",
    "        delay_avg = delays.groupby(['DEST'])['ARR_DELAY'].mean()\n",
    "#         print delay_avg\n",
    "#         break\n",
    "        \n",
    "        ap_used = list(delay_avg.index)\n",
    "        delay_ap = np.zeros((len(airports),))\n",
    "        for i,ap in enumerate(airports):\n",
    "            if ap in ap_used:\n",
    "                delay_ap[i] = delay_avg[ap]\n",
    "                \n",
    "        delay_m[month] = delay_ap\n",
    "        \n",
    "    delay_al[al] = delay_m\n",
    "\n",
    "# for iten,val in delay_al.iteritems():\n",
    "#     print iten\n",
    "#     print val\n",
    "#     print"
   ]
  }
 ],
 "metadata": {
  "kernelspec": {
   "display_name": "Python 2",
   "language": "python",
   "name": "python2"
  },
  "language_info": {
   "codemirror_mode": {
    "name": "ipython",
    "version": 2
   },
   "file_extension": ".py",
   "mimetype": "text/x-python",
   "name": "python",
   "nbconvert_exporter": "python",
   "pygments_lexer": "ipython2",
   "version": "2.7.13"
  }
 },
 "nbformat": 4,
 "nbformat_minor": 2
}
